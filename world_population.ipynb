{
 "cells": [
  {
   "cell_type": "code",
   "execution_count": 1,
   "id": "e7c7336c",
   "metadata": {},
   "outputs": [],
   "source": [
    "import pandas as pd\n",
    "import numpy as np\n",
    "import matplotlib.pyplot as plt\n",
    "import seaborn as sns"
   ]
  },
  {
   "cell_type": "markdown",
   "id": "74398af8",
   "metadata": {},
   "source": [
    "#### Autor: José Ángel Alvarado Osuna"
   ]
  },
  {
   "cell_type": "code",
   "execution_count": 2,
   "id": "0aa3bf9a",
   "metadata": {},
   "outputs": [],
   "source": [
    "df = pd.read_csv(\"/home/jose-a-osuna/Documents/Platzi/population.csv\")"
   ]
  },
  {
   "cell_type": "code",
   "execution_count": 3,
   "id": "2f6369ef",
   "metadata": {},
   "outputs": [
    {
     "data": {
      "text/html": [
       "<div>\n",
       "<style scoped>\n",
       "    .dataframe tbody tr th:only-of-type {\n",
       "        vertical-align: middle;\n",
       "    }\n",
       "\n",
       "    .dataframe tbody tr th {\n",
       "        vertical-align: top;\n",
       "    }\n",
       "\n",
       "    .dataframe thead th {\n",
       "        text-align: right;\n",
       "    }\n",
       "</style>\n",
       "<table border=\"1\" class=\"dataframe\">\n",
       "  <thead>\n",
       "    <tr style=\"text-align: right;\">\n",
       "      <th></th>\n",
       "      <th>Rank</th>\n",
       "      <th>CCA3</th>\n",
       "      <th>Country/Territory</th>\n",
       "      <th>Capital</th>\n",
       "      <th>Continent</th>\n",
       "      <th>2022 Population</th>\n",
       "      <th>2020 Population</th>\n",
       "      <th>2015 Population</th>\n",
       "      <th>2010 Population</th>\n",
       "      <th>2000 Population</th>\n",
       "      <th>1990 Population</th>\n",
       "      <th>1980 Population</th>\n",
       "      <th>1970 Population</th>\n",
       "      <th>Area (km²)</th>\n",
       "      <th>Density (per km²)</th>\n",
       "      <th>Growth Rate</th>\n",
       "      <th>World Population Percentage</th>\n",
       "    </tr>\n",
       "  </thead>\n",
       "  <tbody>\n",
       "    <tr>\n",
       "      <th>0</th>\n",
       "      <td>36</td>\n",
       "      <td>AFG</td>\n",
       "      <td>Afghanistan</td>\n",
       "      <td>Kabul</td>\n",
       "      <td>Asia</td>\n",
       "      <td>41128771</td>\n",
       "      <td>38972230</td>\n",
       "      <td>33753499</td>\n",
       "      <td>28189672</td>\n",
       "      <td>19542982</td>\n",
       "      <td>10694796</td>\n",
       "      <td>12486631</td>\n",
       "      <td>10752971</td>\n",
       "      <td>652230</td>\n",
       "      <td>63.0587</td>\n",
       "      <td>1.0257</td>\n",
       "      <td>0.52</td>\n",
       "    </tr>\n",
       "    <tr>\n",
       "      <th>1</th>\n",
       "      <td>138</td>\n",
       "      <td>ALB</td>\n",
       "      <td>Albania</td>\n",
       "      <td>Tirana</td>\n",
       "      <td>Europe</td>\n",
       "      <td>2842321</td>\n",
       "      <td>2866849</td>\n",
       "      <td>2882481</td>\n",
       "      <td>2913399</td>\n",
       "      <td>3182021</td>\n",
       "      <td>3295066</td>\n",
       "      <td>2941651</td>\n",
       "      <td>2324731</td>\n",
       "      <td>28748</td>\n",
       "      <td>98.8702</td>\n",
       "      <td>0.9957</td>\n",
       "      <td>0.04</td>\n",
       "    </tr>\n",
       "    <tr>\n",
       "      <th>2</th>\n",
       "      <td>34</td>\n",
       "      <td>DZA</td>\n",
       "      <td>Algeria</td>\n",
       "      <td>Algiers</td>\n",
       "      <td>Africa</td>\n",
       "      <td>44903225</td>\n",
       "      <td>43451666</td>\n",
       "      <td>39543154</td>\n",
       "      <td>35856344</td>\n",
       "      <td>30774621</td>\n",
       "      <td>25518074</td>\n",
       "      <td>18739378</td>\n",
       "      <td>13795915</td>\n",
       "      <td>2381741</td>\n",
       "      <td>18.8531</td>\n",
       "      <td>1.0164</td>\n",
       "      <td>0.56</td>\n",
       "    </tr>\n",
       "    <tr>\n",
       "      <th>3</th>\n",
       "      <td>213</td>\n",
       "      <td>ASM</td>\n",
       "      <td>American Samoa</td>\n",
       "      <td>Pago Pago</td>\n",
       "      <td>Oceania</td>\n",
       "      <td>44273</td>\n",
       "      <td>46189</td>\n",
       "      <td>51368</td>\n",
       "      <td>54849</td>\n",
       "      <td>58230</td>\n",
       "      <td>47818</td>\n",
       "      <td>32886</td>\n",
       "      <td>27075</td>\n",
       "      <td>199</td>\n",
       "      <td>222.4774</td>\n",
       "      <td>0.9831</td>\n",
       "      <td>0.00</td>\n",
       "    </tr>\n",
       "    <tr>\n",
       "      <th>4</th>\n",
       "      <td>203</td>\n",
       "      <td>AND</td>\n",
       "      <td>Andorra</td>\n",
       "      <td>Andorra la Vella</td>\n",
       "      <td>Europe</td>\n",
       "      <td>79824</td>\n",
       "      <td>77700</td>\n",
       "      <td>71746</td>\n",
       "      <td>71519</td>\n",
       "      <td>66097</td>\n",
       "      <td>53569</td>\n",
       "      <td>35611</td>\n",
       "      <td>19860</td>\n",
       "      <td>468</td>\n",
       "      <td>170.5641</td>\n",
       "      <td>1.0100</td>\n",
       "      <td>0.00</td>\n",
       "    </tr>\n",
       "  </tbody>\n",
       "</table>\n",
       "</div>"
      ],
      "text/plain": [
       "   Rank CCA3 Country/Territory           Capital Continent  2022 Population   \n",
       "0    36  AFG       Afghanistan             Kabul      Asia         41128771  \\\n",
       "1   138  ALB           Albania            Tirana    Europe          2842321   \n",
       "2    34  DZA           Algeria           Algiers    Africa         44903225   \n",
       "3   213  ASM    American Samoa         Pago Pago   Oceania            44273   \n",
       "4   203  AND           Andorra  Andorra la Vella    Europe            79824   \n",
       "\n",
       "   2020 Population  2015 Population  2010 Population  2000 Population   \n",
       "0         38972230         33753499         28189672         19542982  \\\n",
       "1          2866849          2882481          2913399          3182021   \n",
       "2         43451666         39543154         35856344         30774621   \n",
       "3            46189            51368            54849            58230   \n",
       "4            77700            71746            71519            66097   \n",
       "\n",
       "   1990 Population  1980 Population  1970 Population  Area (km²)   \n",
       "0         10694796         12486631         10752971      652230  \\\n",
       "1          3295066          2941651          2324731       28748   \n",
       "2         25518074         18739378         13795915     2381741   \n",
       "3            47818            32886            27075         199   \n",
       "4            53569            35611            19860         468   \n",
       "\n",
       "   Density (per km²)  Growth Rate  World Population Percentage  \n",
       "0            63.0587       1.0257                         0.52  \n",
       "1            98.8702       0.9957                         0.04  \n",
       "2            18.8531       1.0164                         0.56  \n",
       "3           222.4774       0.9831                         0.00  \n",
       "4           170.5641       1.0100                         0.00  "
      ]
     },
     "execution_count": 3,
     "metadata": {},
     "output_type": "execute_result"
    }
   ],
   "source": [
    "df.head()"
   ]
  },
  {
   "cell_type": "markdown",
   "id": "07acb0af",
   "metadata": {},
   "source": [
    "#### Exploramos el dataset para ver los tipos de datos, datos faltantes u otra información a tomar en cuenta para poder comenzar manipularlos para obtener las visualizaciones."
   ]
  },
  {
   "cell_type": "code",
   "execution_count": 40,
   "id": "569a6431",
   "metadata": {},
   "outputs": [
    {
     "data": {
      "text/html": [
       "<div>\n",
       "<style scoped>\n",
       "    .dataframe tbody tr th:only-of-type {\n",
       "        vertical-align: middle;\n",
       "    }\n",
       "\n",
       "    .dataframe tbody tr th {\n",
       "        vertical-align: top;\n",
       "    }\n",
       "\n",
       "    .dataframe thead th {\n",
       "        text-align: right;\n",
       "    }\n",
       "</style>\n",
       "<table border=\"1\" class=\"dataframe\">\n",
       "  <thead>\n",
       "    <tr style=\"text-align: right;\">\n",
       "      <th></th>\n",
       "      <th>Rank</th>\n",
       "      <th>2022 Population</th>\n",
       "      <th>2020 Population</th>\n",
       "      <th>2015 Population</th>\n",
       "      <th>2010 Population</th>\n",
       "      <th>2000 Population</th>\n",
       "      <th>1990 Population</th>\n",
       "      <th>1980 Population</th>\n",
       "      <th>1970 Population</th>\n",
       "      <th>Area (km²)</th>\n",
       "      <th>Density (per km²)</th>\n",
       "      <th>Growth Rate</th>\n",
       "      <th>World Population Percentage</th>\n",
       "    </tr>\n",
       "  </thead>\n",
       "  <tbody>\n",
       "    <tr>\n",
       "      <th>count</th>\n",
       "      <td>234.000000</td>\n",
       "      <td>2.340000e+02</td>\n",
       "      <td>2.340000e+02</td>\n",
       "      <td>2.340000e+02</td>\n",
       "      <td>2.340000e+02</td>\n",
       "      <td>2.340000e+02</td>\n",
       "      <td>2.340000e+02</td>\n",
       "      <td>2.340000e+02</td>\n",
       "      <td>2.340000e+02</td>\n",
       "      <td>2.340000e+02</td>\n",
       "      <td>234.000000</td>\n",
       "      <td>234.000000</td>\n",
       "      <td>234.000000</td>\n",
       "    </tr>\n",
       "    <tr>\n",
       "      <th>mean</th>\n",
       "      <td>117.500000</td>\n",
       "      <td>3.407441e+07</td>\n",
       "      <td>3.350107e+07</td>\n",
       "      <td>3.172996e+07</td>\n",
       "      <td>2.984524e+07</td>\n",
       "      <td>2.626947e+07</td>\n",
       "      <td>2.271022e+07</td>\n",
       "      <td>1.898462e+07</td>\n",
       "      <td>1.578691e+07</td>\n",
       "      <td>5.814494e+05</td>\n",
       "      <td>452.127044</td>\n",
       "      <td>1.009577</td>\n",
       "      <td>0.427051</td>\n",
       "    </tr>\n",
       "    <tr>\n",
       "      <th>std</th>\n",
       "      <td>67.694165</td>\n",
       "      <td>1.367664e+08</td>\n",
       "      <td>1.355899e+08</td>\n",
       "      <td>1.304050e+08</td>\n",
       "      <td>1.242185e+08</td>\n",
       "      <td>1.116982e+08</td>\n",
       "      <td>9.783217e+07</td>\n",
       "      <td>8.178519e+07</td>\n",
       "      <td>6.779509e+07</td>\n",
       "      <td>1.761841e+06</td>\n",
       "      <td>2066.121904</td>\n",
       "      <td>0.013385</td>\n",
       "      <td>1.714977</td>\n",
       "    </tr>\n",
       "    <tr>\n",
       "      <th>min</th>\n",
       "      <td>1.000000</td>\n",
       "      <td>5.100000e+02</td>\n",
       "      <td>5.200000e+02</td>\n",
       "      <td>5.640000e+02</td>\n",
       "      <td>5.960000e+02</td>\n",
       "      <td>6.510000e+02</td>\n",
       "      <td>7.000000e+02</td>\n",
       "      <td>7.330000e+02</td>\n",
       "      <td>7.520000e+02</td>\n",
       "      <td>1.000000e+00</td>\n",
       "      <td>0.026100</td>\n",
       "      <td>0.912000</td>\n",
       "      <td>0.000000</td>\n",
       "    </tr>\n",
       "    <tr>\n",
       "      <th>25%</th>\n",
       "      <td>59.250000</td>\n",
       "      <td>4.197385e+05</td>\n",
       "      <td>4.152845e+05</td>\n",
       "      <td>4.046760e+05</td>\n",
       "      <td>3.931490e+05</td>\n",
       "      <td>3.272420e+05</td>\n",
       "      <td>2.641158e+05</td>\n",
       "      <td>2.296142e+05</td>\n",
       "      <td>1.559970e+05</td>\n",
       "      <td>2.650000e+03</td>\n",
       "      <td>38.417875</td>\n",
       "      <td>1.001775</td>\n",
       "      <td>0.010000</td>\n",
       "    </tr>\n",
       "    <tr>\n",
       "      <th>50%</th>\n",
       "      <td>117.500000</td>\n",
       "      <td>5.559944e+06</td>\n",
       "      <td>5.493074e+06</td>\n",
       "      <td>5.307400e+06</td>\n",
       "      <td>4.942770e+06</td>\n",
       "      <td>4.292907e+06</td>\n",
       "      <td>3.825410e+06</td>\n",
       "      <td>3.141146e+06</td>\n",
       "      <td>2.604830e+06</td>\n",
       "      <td>8.119950e+04</td>\n",
       "      <td>95.346750</td>\n",
       "      <td>1.007900</td>\n",
       "      <td>0.070000</td>\n",
       "    </tr>\n",
       "    <tr>\n",
       "      <th>75%</th>\n",
       "      <td>175.750000</td>\n",
       "      <td>2.247650e+07</td>\n",
       "      <td>2.144798e+07</td>\n",
       "      <td>1.973085e+07</td>\n",
       "      <td>1.915957e+07</td>\n",
       "      <td>1.576230e+07</td>\n",
       "      <td>1.186923e+07</td>\n",
       "      <td>9.826054e+06</td>\n",
       "      <td>8.817329e+06</td>\n",
       "      <td>4.304258e+05</td>\n",
       "      <td>238.933250</td>\n",
       "      <td>1.016950</td>\n",
       "      <td>0.280000</td>\n",
       "    </tr>\n",
       "    <tr>\n",
       "      <th>max</th>\n",
       "      <td>234.000000</td>\n",
       "      <td>1.425887e+09</td>\n",
       "      <td>1.424930e+09</td>\n",
       "      <td>1.393715e+09</td>\n",
       "      <td>1.348191e+09</td>\n",
       "      <td>1.264099e+09</td>\n",
       "      <td>1.153704e+09</td>\n",
       "      <td>9.823725e+08</td>\n",
       "      <td>8.225344e+08</td>\n",
       "      <td>1.709824e+07</td>\n",
       "      <td>23172.266700</td>\n",
       "      <td>1.069100</td>\n",
       "      <td>17.880000</td>\n",
       "    </tr>\n",
       "  </tbody>\n",
       "</table>\n",
       "</div>"
      ],
      "text/plain": [
       "             Rank  2022 Population  2020 Population  2015 Population   \n",
       "count  234.000000     2.340000e+02     2.340000e+02     2.340000e+02  \\\n",
       "mean   117.500000     3.407441e+07     3.350107e+07     3.172996e+07   \n",
       "std     67.694165     1.367664e+08     1.355899e+08     1.304050e+08   \n",
       "min      1.000000     5.100000e+02     5.200000e+02     5.640000e+02   \n",
       "25%     59.250000     4.197385e+05     4.152845e+05     4.046760e+05   \n",
       "50%    117.500000     5.559944e+06     5.493074e+06     5.307400e+06   \n",
       "75%    175.750000     2.247650e+07     2.144798e+07     1.973085e+07   \n",
       "max    234.000000     1.425887e+09     1.424930e+09     1.393715e+09   \n",
       "\n",
       "       2010 Population  2000 Population  1990 Population  1980 Population   \n",
       "count     2.340000e+02     2.340000e+02     2.340000e+02     2.340000e+02  \\\n",
       "mean      2.984524e+07     2.626947e+07     2.271022e+07     1.898462e+07   \n",
       "std       1.242185e+08     1.116982e+08     9.783217e+07     8.178519e+07   \n",
       "min       5.960000e+02     6.510000e+02     7.000000e+02     7.330000e+02   \n",
       "25%       3.931490e+05     3.272420e+05     2.641158e+05     2.296142e+05   \n",
       "50%       4.942770e+06     4.292907e+06     3.825410e+06     3.141146e+06   \n",
       "75%       1.915957e+07     1.576230e+07     1.186923e+07     9.826054e+06   \n",
       "max       1.348191e+09     1.264099e+09     1.153704e+09     9.823725e+08   \n",
       "\n",
       "       1970 Population    Area (km²)  Density (per km²)  Growth Rate   \n",
       "count     2.340000e+02  2.340000e+02         234.000000   234.000000  \\\n",
       "mean      1.578691e+07  5.814494e+05         452.127044     1.009577   \n",
       "std       6.779509e+07  1.761841e+06        2066.121904     0.013385   \n",
       "min       7.520000e+02  1.000000e+00           0.026100     0.912000   \n",
       "25%       1.559970e+05  2.650000e+03          38.417875     1.001775   \n",
       "50%       2.604830e+06  8.119950e+04          95.346750     1.007900   \n",
       "75%       8.817329e+06  4.304258e+05         238.933250     1.016950   \n",
       "max       8.225344e+08  1.709824e+07       23172.266700     1.069100   \n",
       "\n",
       "       World Population Percentage  \n",
       "count                   234.000000  \n",
       "mean                      0.427051  \n",
       "std                       1.714977  \n",
       "min                       0.000000  \n",
       "25%                       0.010000  \n",
       "50%                       0.070000  \n",
       "75%                       0.280000  \n",
       "max                      17.880000  "
      ]
     },
     "execution_count": 40,
     "metadata": {},
     "output_type": "execute_result"
    }
   ],
   "source": [
    "df.describe()"
   ]
  },
  {
   "cell_type": "code",
   "execution_count": 41,
   "id": "11872abf",
   "metadata": {},
   "outputs": [
    {
     "name": "stdout",
     "output_type": "stream",
     "text": [
      "<class 'pandas.core.frame.DataFrame'>\n",
      "RangeIndex: 234 entries, 0 to 233\n",
      "Data columns (total 17 columns):\n",
      " #   Column                       Non-Null Count  Dtype  \n",
      "---  ------                       --------------  -----  \n",
      " 0   Rank                         234 non-null    int64  \n",
      " 1   CCA3                         234 non-null    object \n",
      " 2   Country/Territory            234 non-null    object \n",
      " 3   Capital                      234 non-null    object \n",
      " 4   Continent                    234 non-null    object \n",
      " 5   2022 Population              234 non-null    int64  \n",
      " 6   2020 Population              234 non-null    int64  \n",
      " 7   2015 Population              234 non-null    int64  \n",
      " 8   2010 Population              234 non-null    int64  \n",
      " 9   2000 Population              234 non-null    int64  \n",
      " 10  1990 Population              234 non-null    int64  \n",
      " 11  1980 Population              234 non-null    int64  \n",
      " 12  1970 Population              234 non-null    int64  \n",
      " 13  Area (km²)                   234 non-null    int64  \n",
      " 14  Density (per km²)            234 non-null    float64\n",
      " 15  Growth Rate                  234 non-null    float64\n",
      " 16  World Population Percentage  234 non-null    float64\n",
      "dtypes: float64(3), int64(10), object(4)\n",
      "memory usage: 31.2+ KB\n"
     ]
    }
   ],
   "source": [
    "df.info()"
   ]
  },
  {
   "cell_type": "markdown",
   "id": "18dfdb52",
   "metadata": {},
   "source": [
    "#### Una vez que identificamos los tipos de datos y verificamos que no tenemos valores nulos vamos a usar matplotlib y seaborn para crear visualizaciones que ayuden a obtener mayor información de los datos"
   ]
  },
  {
   "cell_type": "code",
   "execution_count": 4,
   "id": "59ebfc8f",
   "metadata": {},
   "outputs": [],
   "source": [
    "data_mex = df[df['Country/Territory'] == \"Mexico\"]"
   ]
  },
  {
   "cell_type": "code",
   "execution_count": 5,
   "id": "fdcbfa2a",
   "metadata": {},
   "outputs": [
    {
     "data": {
      "text/html": [
       "<div>\n",
       "<style scoped>\n",
       "    .dataframe tbody tr th:only-of-type {\n",
       "        vertical-align: middle;\n",
       "    }\n",
       "\n",
       "    .dataframe tbody tr th {\n",
       "        vertical-align: top;\n",
       "    }\n",
       "\n",
       "    .dataframe thead th {\n",
       "        text-align: right;\n",
       "    }\n",
       "</style>\n",
       "<table border=\"1\" class=\"dataframe\">\n",
       "  <thead>\n",
       "    <tr style=\"text-align: right;\">\n",
       "      <th></th>\n",
       "      <th>Rank</th>\n",
       "      <th>CCA3</th>\n",
       "      <th>Country/Territory</th>\n",
       "      <th>Capital</th>\n",
       "      <th>Continent</th>\n",
       "      <th>2022 Population</th>\n",
       "      <th>2020 Population</th>\n",
       "      <th>2015 Population</th>\n",
       "      <th>2010 Population</th>\n",
       "      <th>2000 Population</th>\n",
       "      <th>1990 Population</th>\n",
       "      <th>1980 Population</th>\n",
       "      <th>1970 Population</th>\n",
       "      <th>Area (km²)</th>\n",
       "      <th>Density (per km²)</th>\n",
       "      <th>Growth Rate</th>\n",
       "      <th>World Population Percentage</th>\n",
       "    </tr>\n",
       "  </thead>\n",
       "  <tbody>\n",
       "    <tr>\n",
       "      <th>131</th>\n",
       "      <td>10</td>\n",
       "      <td>MEX</td>\n",
       "      <td>Mexico</td>\n",
       "      <td>Mexico City</td>\n",
       "      <td>North America</td>\n",
       "      <td>127504125</td>\n",
       "      <td>125998302</td>\n",
       "      <td>120149897</td>\n",
       "      <td>112532401</td>\n",
       "      <td>97873442</td>\n",
       "      <td>81720428</td>\n",
       "      <td>67705186</td>\n",
       "      <td>50289306</td>\n",
       "      <td>1964375</td>\n",
       "      <td>64.9082</td>\n",
       "      <td>1.0063</td>\n",
       "      <td>1.6</td>\n",
       "    </tr>\n",
       "  </tbody>\n",
       "</table>\n",
       "</div>"
      ],
      "text/plain": [
       "     Rank CCA3 Country/Territory      Capital      Continent  2022 Population   \n",
       "131    10  MEX            Mexico  Mexico City  North America        127504125  \\\n",
       "\n",
       "     2020 Population  2015 Population  2010 Population  2000 Population   \n",
       "131        125998302        120149897        112532401         97873442  \\\n",
       "\n",
       "     1990 Population  1980 Population  1970 Population  Area (km²)   \n",
       "131         81720428         67705186         50289306     1964375  \\\n",
       "\n",
       "     Density (per km²)  Growth Rate  World Population Percentage  \n",
       "131            64.9082       1.0063                          1.6  "
      ]
     },
     "execution_count": 5,
     "metadata": {},
     "output_type": "execute_result"
    }
   ],
   "source": [
    "data_mex"
   ]
  },
  {
   "cell_type": "code",
   "execution_count": 6,
   "id": "21de0d5b",
   "metadata": {},
   "outputs": [],
   "source": [
    "popu = data_mex['1970 Population'],data_mex['1980 Population'],data_mex['1990 Population'],data_mex['2000 Population'],data_mex['2010 Population'],data_mex['2015 Population'], data_mex['2020 Population'], data_mex['2022 Population']"
   ]
  },
  {
   "cell_type": "code",
   "execution_count": 7,
   "id": "74b9c49c",
   "metadata": {},
   "outputs": [],
   "source": [
    "etiquetas = [\"1980\", \"1980\", \"1990\", \"2000\", \"2010\",\"2015\", \"2020\", \"2022\"]"
   ]
  },
  {
   "cell_type": "code",
   "execution_count": 8,
   "id": "19a71458",
   "metadata": {},
   "outputs": [
    {
     "data": {
      "text/plain": [
       "list"
      ]
     },
     "execution_count": 8,
     "metadata": {},
     "output_type": "execute_result"
    }
   ],
   "source": [
    "type(etiquetas)"
   ]
  },
  {
   "cell_type": "code",
   "execution_count": 9,
   "id": "04d8c959",
   "metadata": {},
   "outputs": [
    {
     "data": {
      "image/png": "[encoded data removed]",
      "text/plain": [
       "<Figure size 640x480 with 1 Axes>"
      ]
     },
     "metadata": {},
     "output_type": "display_data"
    }
   ],
   "source": [
    "plt.plot(etiquetas, popu, 'o-')\n",
    "plt.title(\"México Population in years\")\n",
    "plt.xlabel(\"years\")\n",
    "plt.show()"
   ]
  },
  {
   "cell_type": "markdown",
   "id": "a99e89cf",
   "metadata": {},
   "source": [
    "#### En este grafico vemos como ha sido el crecimiento de población en México desde los años 80's en donde claramente podemos observar una reducción considerable en el crecimiento."
   ]
  },
  {
   "cell_type": "code",
   "execution_count": 10,
   "id": "a8d542b4",
   "metadata": {},
   "outputs": [
    {
     "data": {
      "text/plain": [
       "array(['Asia', 'Europe', 'Africa', 'Oceania', 'North America',\n",
       "       'South America'], dtype=object)"
      ]
     },
     "execution_count": 10,
     "metadata": {},
     "output_type": "execute_result"
    }
   ],
   "source": [
    "df[\"Continent\"].unique()"
   ]
  },
  {
   "cell_type": "code",
   "execution_count": 11,
   "id": "3aa57695",
   "metadata": {},
   "outputs": [],
   "source": [
    "asia = df[df[\"Continent\"] == \"Asia\"]"
   ]
  },
  {
   "cell_type": "code",
   "execution_count": 12,
   "id": "a96517b8",
   "metadata": {},
   "outputs": [
    {
     "data": {
      "text/html": [
       "<div>\n",
       "<style scoped>\n",
       "    .dataframe tbody tr th:only-of-type {\n",
       "        vertical-align: middle;\n",
       "    }\n",
       "\n",
       "    .dataframe tbody tr th {\n",
       "        vertical-align: top;\n",
       "    }\n",
       "\n",
       "    .dataframe thead th {\n",
       "        text-align: right;\n",
       "    }\n",
       "</style>\n",
       "<table border=\"1\" class=\"dataframe\">\n",
       "  <thead>\n",
       "    <tr style=\"text-align: right;\">\n",
       "      <th></th>\n",
       "      <th>Rank</th>\n",
       "      <th>CCA3</th>\n",
       "      <th>Country/Territory</th>\n",
       "      <th>Capital</th>\n",
       "      <th>Continent</th>\n",
       "      <th>2022 Population</th>\n",
       "      <th>2020 Population</th>\n",
       "      <th>2015 Population</th>\n",
       "      <th>2010 Population</th>\n",
       "      <th>2000 Population</th>\n",
       "      <th>1990 Population</th>\n",
       "      <th>1980 Population</th>\n",
       "      <th>1970 Population</th>\n",
       "      <th>Area (km²)</th>\n",
       "      <th>Density (per km²)</th>\n",
       "      <th>Growth Rate</th>\n",
       "      <th>World Population Percentage</th>\n",
       "    </tr>\n",
       "  </thead>\n",
       "  <tbody>\n",
       "    <tr>\n",
       "      <th>0</th>\n",
       "      <td>36</td>\n",
       "      <td>AFG</td>\n",
       "      <td>Afghanistan</td>\n",
       "      <td>Kabul</td>\n",
       "      <td>Asia</td>\n",
       "      <td>41128771</td>\n",
       "      <td>38972230</td>\n",
       "      <td>33753499</td>\n",
       "      <td>28189672</td>\n",
       "      <td>19542982</td>\n",
       "      <td>10694796</td>\n",
       "      <td>12486631</td>\n",
       "      <td>10752971</td>\n",
       "      <td>652230</td>\n",
       "      <td>63.0587</td>\n",
       "      <td>1.0257</td>\n",
       "      <td>0.52</td>\n",
       "    </tr>\n",
       "    <tr>\n",
       "      <th>9</th>\n",
       "      <td>140</td>\n",
       "      <td>ARM</td>\n",
       "      <td>Armenia</td>\n",
       "      <td>Yerevan</td>\n",
       "      <td>Asia</td>\n",
       "      <td>2780469</td>\n",
       "      <td>2805608</td>\n",
       "      <td>2878595</td>\n",
       "      <td>2946293</td>\n",
       "      <td>3168523</td>\n",
       "      <td>3556539</td>\n",
       "      <td>3135123</td>\n",
       "      <td>2534377</td>\n",
       "      <td>29743</td>\n",
       "      <td>93.4831</td>\n",
       "      <td>0.9962</td>\n",
       "      <td>0.03</td>\n",
       "    </tr>\n",
       "    <tr>\n",
       "      <th>13</th>\n",
       "      <td>91</td>\n",
       "      <td>AZE</td>\n",
       "      <td>Azerbaijan</td>\n",
       "      <td>Baku</td>\n",
       "      <td>Asia</td>\n",
       "      <td>10358074</td>\n",
       "      <td>10284951</td>\n",
       "      <td>9863480</td>\n",
       "      <td>9237202</td>\n",
       "      <td>8190337</td>\n",
       "      <td>7427836</td>\n",
       "      <td>6383060</td>\n",
       "      <td>5425317</td>\n",
       "      <td>86600</td>\n",
       "      <td>119.6082</td>\n",
       "      <td>1.0044</td>\n",
       "      <td>0.13</td>\n",
       "    </tr>\n",
       "    <tr>\n",
       "      <th>15</th>\n",
       "      <td>154</td>\n",
       "      <td>BHR</td>\n",
       "      <td>Bahrain</td>\n",
       "      <td>Manama</td>\n",
       "      <td>Asia</td>\n",
       "      <td>1472233</td>\n",
       "      <td>1477469</td>\n",
       "      <td>1362142</td>\n",
       "      <td>1213645</td>\n",
       "      <td>711442</td>\n",
       "      <td>517418</td>\n",
       "      <td>362595</td>\n",
       "      <td>222555</td>\n",
       "      <td>765</td>\n",
       "      <td>1924.4876</td>\n",
       "      <td>1.0061</td>\n",
       "      <td>0.02</td>\n",
       "    </tr>\n",
       "    <tr>\n",
       "      <th>16</th>\n",
       "      <td>8</td>\n",
       "      <td>BGD</td>\n",
       "      <td>Bangladesh</td>\n",
       "      <td>Dhaka</td>\n",
       "      <td>Asia</td>\n",
       "      <td>171186372</td>\n",
       "      <td>167420951</td>\n",
       "      <td>157830000</td>\n",
       "      <td>148391139</td>\n",
       "      <td>129193327</td>\n",
       "      <td>107147651</td>\n",
       "      <td>83929765</td>\n",
       "      <td>67541860</td>\n",
       "      <td>147570</td>\n",
       "      <td>1160.0350</td>\n",
       "      <td>1.0108</td>\n",
       "      <td>2.15</td>\n",
       "    </tr>\n",
       "  </tbody>\n",
       "</table>\n",
       "</div>"
      ],
      "text/plain": [
       "    Rank CCA3 Country/Territory  Capital Continent  2022 Population   \n",
       "0     36  AFG       Afghanistan    Kabul      Asia         41128771  \\\n",
       "9    140  ARM           Armenia  Yerevan      Asia          2780469   \n",
       "13    91  AZE        Azerbaijan     Baku      Asia         10358074   \n",
       "15   154  BHR           Bahrain   Manama      Asia          1472233   \n",
       "16     8  BGD        Bangladesh    Dhaka      Asia        171186372   \n",
       "\n",
       "    2020 Population  2015 Population  2010 Population  2000 Population   \n",
       "0          38972230         33753499         28189672         19542982  \\\n",
       "9           2805608          2878595          2946293          3168523   \n",
       "13         10284951          9863480          9237202          8190337   \n",
       "15          1477469          1362142          1213645           711442   \n",
       "16        167420951        157830000        148391139        129193327   \n",
       "\n",
       "    1990 Population  1980 Population  1970 Population  Area (km²)   \n",
       "0          10694796         12486631         10752971      652230  \\\n",
       "9           3556539          3135123          2534377       29743   \n",
       "13          7427836          6383060          5425317       86600   \n",
       "15           517418           362595           222555         765   \n",
       "16        107147651         83929765         67541860      147570   \n",
       "\n",
       "    Density (per km²)  Growth Rate  World Population Percentage  \n",
       "0             63.0587       1.0257                         0.52  \n",
       "9             93.4831       0.9962                         0.03  \n",
       "13           119.6082       1.0044                         0.13  \n",
       "15          1924.4876       1.0061                         0.02  \n",
       "16          1160.0350       1.0108                         2.15  "
      ]
     },
     "execution_count": 12,
     "metadata": {},
     "output_type": "execute_result"
    }
   ],
   "source": [
    "asia.head()"
   ]
  },
  {
   "cell_type": "code",
   "execution_count": 13,
   "id": "7d7817e1",
   "metadata": {},
   "outputs": [],
   "source": [
    "europa = df[df[\"Continent\"] == \"Europe\"]"
   ]
  },
  {
   "cell_type": "code",
   "execution_count": 14,
   "id": "5a649f33",
   "metadata": {},
   "outputs": [],
   "source": [
    "africa = df[df[\"Continent\"] == \"Africa\"]"
   ]
  },
  {
   "cell_type": "code",
   "execution_count": 15,
   "id": "27a6f507",
   "metadata": {},
   "outputs": [],
   "source": [
    "oceania = df[df[\"Continent\"] == \"Oceania\"]"
   ]
  },
  {
   "cell_type": "code",
   "execution_count": 16,
   "id": "968949bd",
   "metadata": {},
   "outputs": [],
   "source": [
    "n_america = df[df[\"Continent\"] == \"North America\"]"
   ]
  },
  {
   "cell_type": "code",
   "execution_count": 17,
   "id": "6d415489",
   "metadata": {},
   "outputs": [],
   "source": [
    "s_america = df[df[\"Continent\"] == \"South America\"]"
   ]
  },
  {
   "cell_type": "code",
   "execution_count": 18,
   "id": "bd66eb3e",
   "metadata": {},
   "outputs": [
    {
     "data": {
      "text/plain": [
       "1.009384"
      ]
     },
     "execution_count": 18,
     "metadata": {},
     "output_type": "execute_result"
    }
   ],
   "source": [
    "asia_mean = np.mean(asia[\"Growth Rate\"])\n",
    "asia_mean"
   ]
  },
  {
   "cell_type": "code",
   "execution_count": 19,
   "id": "b69b951e",
   "metadata": {},
   "outputs": [
    {
     "data": {
      "text/plain": [
       "1.002256"
      ]
     },
     "execution_count": 19,
     "metadata": {},
     "output_type": "execute_result"
    }
   ],
   "source": [
    "europa_mean = np.mean(europa[\"Growth Rate\"])\n",
    "europa_mean"
   ]
  },
  {
   "cell_type": "code",
   "execution_count": 20,
   "id": "2321ec81",
   "metadata": {},
   "outputs": [
    {
     "data": {
      "text/plain": [
       "1.021243859649123"
      ]
     },
     "execution_count": 20,
     "metadata": {},
     "output_type": "execute_result"
    }
   ],
   "source": [
    "africa_mean = np.mean(africa[\"Growth Rate\"])\n",
    "africa_mean"
   ]
  },
  {
   "cell_type": "code",
   "execution_count": 21,
   "id": "badda2d8",
   "metadata": {},
   "outputs": [
    {
     "data": {
      "text/plain": [
       "1.0073826086956523"
      ]
     },
     "execution_count": 21,
     "metadata": {},
     "output_type": "execute_result"
    }
   ],
   "source": [
    "oceania_mean = np.mean(oceania[\"Growth Rate\"])\n",
    "oceania_mean"
   ]
  },
  {
   "cell_type": "code",
   "execution_count": 22,
   "id": "a7370d42",
   "metadata": {},
   "outputs": [
    {
     "data": {
      "text/plain": [
       "1.004175"
      ]
     },
     "execution_count": 22,
     "metadata": {},
     "output_type": "execute_result"
    }
   ],
   "source": [
    "n_america_mean = np.mean(n_america[\"Growth Rate\"])\n",
    "n_america_mean"
   ]
  },
  {
   "cell_type": "code",
   "execution_count": 23,
   "id": "8c11c170",
   "metadata": {},
   "outputs": [
    {
     "data": {
      "text/plain": [
       "1.007957142857143"
      ]
     },
     "execution_count": 23,
     "metadata": {},
     "output_type": "execute_result"
    }
   ],
   "source": [
    "s_america_mean = np.mean(s_america[\"Growth Rate\"])\n",
    "s_america_mean"
   ]
  },
  {
   "cell_type": "code",
   "execution_count": 24,
   "id": "0257cb92",
   "metadata": {},
   "outputs": [],
   "source": [
    "promedio = [africa_mean, asia_mean, s_america_mean, oceania_mean, n_america_mean, europa_mean]"
   ]
  },
  {
   "cell_type": "code",
   "execution_count": 25,
   "id": "ed65c0b2",
   "metadata": {},
   "outputs": [],
   "source": [
    "label_cont = [\"africa\", \"asia\", \"south america\", \"oceania\", \"north america\", \"europa\"]"
   ]
  },
  {
   "cell_type": "code",
   "execution_count": 26,
   "id": "491855c9",
   "metadata": {},
   "outputs": [
    {
     "data": {
      "image/png": "[encoded data removed]",
      "text/plain": [
       "<Figure size 640x480 with 1 Axes>"
      ]
     },
     "metadata": {},
     "output_type": "display_data"
    }
   ],
   "source": [
    "plt.plot(label_cont, promedio, 'o', linestyle =\"dashed\", color = \"orange\")\n",
    "plt.title(\"Mean of growth rate by continent\")\n",
    "plt.show()"
   ]
  },
  {
   "cell_type": "markdown",
   "id": "652ecaa4",
   "metadata": {},
   "source": [
    "#### En este gráfico observamos el promedio de crecimiento en % por continente en donde África tiene el mas alto, mientras que Europa tiene el mas bajo."
   ]
  },
  {
   "cell_type": "code",
   "execution_count": 27,
   "id": "ea7e7496",
   "metadata": {},
   "outputs": [
    {
     "data": {
      "text/plain": [
       "59.19"
      ]
     },
     "execution_count": 27,
     "metadata": {},
     "output_type": "execute_result"
    }
   ],
   "source": [
    "asiaper = sum(asia[\"World Population Percentage\"])\n",
    "asiaper"
   ]
  },
  {
   "cell_type": "code",
   "execution_count": 28,
   "id": "b3d1d29e",
   "metadata": {},
   "outputs": [
    {
     "data": {
      "text/plain": [
       "17.869999999999997"
      ]
     },
     "execution_count": 28,
     "metadata": {},
     "output_type": "execute_result"
    }
   ],
   "source": [
    "africaper = sum(africa[\"World Population Percentage\"])\n",
    "africaper"
   ]
  },
  {
   "cell_type": "code",
   "execution_count": 29,
   "id": "e1fa1212",
   "metadata": {},
   "outputs": [
    {
     "data": {
      "text/plain": [
       "0.55"
      ]
     },
     "execution_count": 29,
     "metadata": {},
     "output_type": "execute_result"
    }
   ],
   "source": [
    "oceaniaper = sum(oceania[\"World Population Percentage\"])\n",
    "oceaniaper"
   ]
  },
  {
   "cell_type": "code",
   "execution_count": 30,
   "id": "1011b1ff",
   "metadata": {},
   "outputs": [
    {
     "data": {
      "text/plain": [
       "9.33"
      ]
     },
     "execution_count": 30,
     "metadata": {},
     "output_type": "execute_result"
    }
   ],
   "source": [
    "europaper = sum(europa[\"World Population Percentage\"])\n",
    "europaper"
   ]
  },
  {
   "cell_type": "code",
   "execution_count": 31,
   "id": "61778cfa",
   "metadata": {},
   "outputs": [
    {
     "data": {
      "text/plain": [
       "7.51"
      ]
     },
     "execution_count": 31,
     "metadata": {},
     "output_type": "execute_result"
    }
   ],
   "source": [
    "n_americaper = sum(n_america[\"World Population Percentage\"])\n",
    "n_americaper"
   ]
  },
  {
   "cell_type": "code",
   "execution_count": 32,
   "id": "9006c533",
   "metadata": {},
   "outputs": [
    {
     "data": {
      "text/plain": [
       "5.4799999999999995"
      ]
     },
     "execution_count": 32,
     "metadata": {},
     "output_type": "execute_result"
    }
   ],
   "source": [
    "s_americaper = sum(s_america[\"World Population Percentage\"])\n",
    "s_americaper"
   ]
  },
  {
   "cell_type": "code",
   "execution_count": 33,
   "id": "d504dee3",
   "metadata": {},
   "outputs": [],
   "source": [
    "continenper = [asiaper, africaper, europaper, n_americaper, s_americaper, oceaniaper]"
   ]
  },
  {
   "cell_type": "code",
   "execution_count": 34,
   "id": "d6071e55",
   "metadata": {},
   "outputs": [],
   "source": [
    "contiquetas = [\"asia\", \"africa\", \"europa\", \"no.america\", \"so.america\", \"oceania\"]"
   ]
  },
  {
   "cell_type": "code",
   "execution_count": 35,
   "id": "d5921e80",
   "metadata": {},
   "outputs": [
    {
     "data": {
      "image/png": "[encoded data removed]",
      "text/plain": [
       "<Figure size 640x480 with 1 Axes>"
      ]
     },
     "metadata": {},
     "output_type": "display_data"
    }
   ],
   "source": [
    "sns.barplot(x = contiquetas, y = continenper, width = 0.6)\n",
    "plt.title(\"World percentage population by continent\")\n",
    "plt.xlabel(\"continent\")\n",
    "plt.ylabel(\"world percentage population\")\n",
    "plt.show()"
   ]
  },
  {
   "cell_type": "markdown",
   "id": "f854fb3f",
   "metadata": {},
   "source": [
    "#### Porcentaje de población mundial por continente donde vemos que Asia es el continente con mas poblacion con bastante diferencia, mientras que Oceania es el que menos porcentaje de población mundial tiene."
   ]
  },
  {
   "cell_type": "code",
   "execution_count": 36,
   "id": "c849d546",
   "metadata": {},
   "outputs": [],
   "source": [
    "datarank = df[(df[\"Rank\"] > 0) & (df[\"Rank\"] <6)]"
   ]
  },
  {
   "cell_type": "code",
   "execution_count": 37,
   "id": "b804c1ff",
   "metadata": {},
   "outputs": [
    {
     "data": {
      "text/html": [
       "<div>\n",
       "<style scoped>\n",
       "    .dataframe tbody tr th:only-of-type {\n",
       "        vertical-align: middle;\n",
       "    }\n",
       "\n",
       "    .dataframe tbody tr th {\n",
       "        vertical-align: top;\n",
       "    }\n",
       "\n",
       "    .dataframe thead th {\n",
       "        text-align: right;\n",
       "    }\n",
       "</style>\n",
       "<table border=\"1\" class=\"dataframe\">\n",
       "  <thead>\n",
       "    <tr style=\"text-align: right;\">\n",
       "      <th></th>\n",
       "      <th>Rank</th>\n",
       "      <th>CCA3</th>\n",
       "      <th>Country/Territory</th>\n",
       "      <th>Capital</th>\n",
       "      <th>Continent</th>\n",
       "      <th>2022 Population</th>\n",
       "      <th>2020 Population</th>\n",
       "      <th>2015 Population</th>\n",
       "      <th>2010 Population</th>\n",
       "      <th>2000 Population</th>\n",
       "      <th>1990 Population</th>\n",
       "      <th>1980 Population</th>\n",
       "      <th>1970 Population</th>\n",
       "      <th>Area (km²)</th>\n",
       "      <th>Density (per km²)</th>\n",
       "      <th>Growth Rate</th>\n",
       "      <th>World Population Percentage</th>\n",
       "    </tr>\n",
       "  </thead>\n",
       "  <tbody>\n",
       "    <tr>\n",
       "      <th>41</th>\n",
       "      <td>1</td>\n",
       "      <td>CHN</td>\n",
       "      <td>China</td>\n",
       "      <td>Beijing</td>\n",
       "      <td>Asia</td>\n",
       "      <td>1425887337</td>\n",
       "      <td>1424929781</td>\n",
       "      <td>1393715448</td>\n",
       "      <td>1348191368</td>\n",
       "      <td>1264099069</td>\n",
       "      <td>1153704252</td>\n",
       "      <td>982372466</td>\n",
       "      <td>822534450</td>\n",
       "      <td>9706961</td>\n",
       "      <td>146.8933</td>\n",
       "      <td>1.0000</td>\n",
       "      <td>17.88</td>\n",
       "    </tr>\n",
       "    <tr>\n",
       "      <th>92</th>\n",
       "      <td>2</td>\n",
       "      <td>IND</td>\n",
       "      <td>India</td>\n",
       "      <td>New Delhi</td>\n",
       "      <td>Asia</td>\n",
       "      <td>1417173173</td>\n",
       "      <td>1396387127</td>\n",
       "      <td>1322866505</td>\n",
       "      <td>1240613620</td>\n",
       "      <td>1059633675</td>\n",
       "      <td>870452165</td>\n",
       "      <td>696828385</td>\n",
       "      <td>557501301</td>\n",
       "      <td>3287590</td>\n",
       "      <td>431.0675</td>\n",
       "      <td>1.0068</td>\n",
       "      <td>17.77</td>\n",
       "    </tr>\n",
       "    <tr>\n",
       "      <th>93</th>\n",
       "      <td>4</td>\n",
       "      <td>IDN</td>\n",
       "      <td>Indonesia</td>\n",
       "      <td>Jakarta</td>\n",
       "      <td>Asia</td>\n",
       "      <td>275501339</td>\n",
       "      <td>271857970</td>\n",
       "      <td>259091970</td>\n",
       "      <td>244016173</td>\n",
       "      <td>214072421</td>\n",
       "      <td>182159874</td>\n",
       "      <td>148177096</td>\n",
       "      <td>115228394</td>\n",
       "      <td>1904569</td>\n",
       "      <td>144.6529</td>\n",
       "      <td>1.0064</td>\n",
       "      <td>3.45</td>\n",
       "    </tr>\n",
       "    <tr>\n",
       "      <th>156</th>\n",
       "      <td>5</td>\n",
       "      <td>PAK</td>\n",
       "      <td>Pakistan</td>\n",
       "      <td>Islamabad</td>\n",
       "      <td>Asia</td>\n",
       "      <td>235824862</td>\n",
       "      <td>227196741</td>\n",
       "      <td>210969298</td>\n",
       "      <td>194454498</td>\n",
       "      <td>154369924</td>\n",
       "      <td>115414069</td>\n",
       "      <td>80624057</td>\n",
       "      <td>59290872</td>\n",
       "      <td>881912</td>\n",
       "      <td>267.4018</td>\n",
       "      <td>1.0191</td>\n",
       "      <td>2.96</td>\n",
       "    </tr>\n",
       "    <tr>\n",
       "      <th>221</th>\n",
       "      <td>3</td>\n",
       "      <td>USA</td>\n",
       "      <td>United States</td>\n",
       "      <td>Washington, D.C.</td>\n",
       "      <td>North America</td>\n",
       "      <td>338289857</td>\n",
       "      <td>335942003</td>\n",
       "      <td>324607776</td>\n",
       "      <td>311182845</td>\n",
       "      <td>282398554</td>\n",
       "      <td>248083732</td>\n",
       "      <td>223140018</td>\n",
       "      <td>200328340</td>\n",
       "      <td>9372610</td>\n",
       "      <td>36.0935</td>\n",
       "      <td>1.0038</td>\n",
       "      <td>4.24</td>\n",
       "    </tr>\n",
       "  </tbody>\n",
       "</table>\n",
       "</div>"
      ],
      "text/plain": [
       "     Rank CCA3 Country/Territory           Capital      Continent   \n",
       "41      1  CHN             China           Beijing           Asia  \\\n",
       "92      2  IND             India         New Delhi           Asia   \n",
       "93      4  IDN         Indonesia           Jakarta           Asia   \n",
       "156     5  PAK          Pakistan         Islamabad           Asia   \n",
       "221     3  USA     United States  Washington, D.C.  North America   \n",
       "\n",
       "     2022 Population  2020 Population  2015 Population  2010 Population   \n",
       "41        1425887337       1424929781       1393715448       1348191368  \\\n",
       "92        1417173173       1396387127       1322866505       1240613620   \n",
       "93         275501339        271857970        259091970        244016173   \n",
       "156        235824862        227196741        210969298        194454498   \n",
       "221        338289857        335942003        324607776        311182845   \n",
       "\n",
       "     2000 Population  1990 Population  1980 Population  1970 Population   \n",
       "41        1264099069       1153704252        982372466        822534450  \\\n",
       "92        1059633675        870452165        696828385        557501301   \n",
       "93         214072421        182159874        148177096        115228394   \n",
       "156        154369924        115414069         80624057         59290872   \n",
       "221        282398554        248083732        223140018        200328340   \n",
       "\n",
       "     Area (km²)  Density (per km²)  Growth Rate  World Population Percentage  \n",
       "41      9706961           146.8933       1.0000                        17.88  \n",
       "92      3287590           431.0675       1.0068                        17.77  \n",
       "93      1904569           144.6529       1.0064                         3.45  \n",
       "156      881912           267.4018       1.0191                         2.96  \n",
       "221     9372610            36.0935       1.0038                         4.24  "
      ]
     },
     "execution_count": 37,
     "metadata": {},
     "output_type": "execute_result"
    }
   ],
   "source": [
    "datarank"
   ]
  },
  {
   "cell_type": "code",
   "execution_count": 38,
   "id": "602fe836",
   "metadata": {},
   "outputs": [
    {
     "data": {
      "image/png": "[encoded data removed]",
      "text/plain": [
       "<Figure size 640x480 with 1 Axes>"
      ]
     },
     "metadata": {},
     "output_type": "display_data"
    }
   ],
   "source": [
    "plt.pie(datarank[\"2022 Population\"], labels = datarank[\"World Population Percentage\"], shadow = True)\n",
    "plt.title(\"Top 5 world population percentage country\")\n",
    "plt.legend(datarank[\"Country/Territory\"],title = \"Top 5 Countries\", loc = \"upper left\")\n",
    "plt.show()"
   ]
  },
  {
   "cell_type": "markdown",
   "id": "20607016",
   "metadata": {},
   "source": [
    "#### Top 5 de paises con mayor porcentaje de población mundial donde vemos que China e India ocupan el mayor porcentaje despectivamente y les siguen por detras Indonesia, Pakistan, y Estados Unidos con mucho menor porcentaje."
   ]
  },
  {
   "cell_type": "code",
   "execution_count": null,
   "id": "d78f9b50",
   "metadata": {},
   "outputs": [],
   "source": []
  },
  {
   "cell_type": "code",
   "execution_count": 39,
   "id": "01e42eac",
   "metadata": {},
   "outputs": [
    {
     "data": {
      "image/png": "[encoded data removed]",
      "text/plain": [
       "<Figure size 640x480 with 4 Axes>"
      ]
     },
     "metadata": {},
     "output_type": "display_data"
    }
   ],
   "source": [
    "fig, axes = plt.subplots(2,2)\n",
    "axes[0,0].plot(popu, 'o-')\n",
    "#plt.title(\"México Population in years\")\n",
    "#plt.xlabel(\"years\")\n",
    "axes[0,1].plot(promedio, 'o', linestyle =\"dashed\", color = \"orange\")\n",
    "#plt.title(\"Mean of growth rate by continent\")\n",
    "sns.barplot(ax = axes[1,1], x = contiquetas, y = continenper, width = 0.6)\n",
    "#plt.title(\"World percentage population by continent\")\n",
    "#plt.xlabel(\"continent\")\n",
    "#plt.ylabel(\"world percentage population\")\n",
    "axes[1,0].pie(datarank[\"2022 Population\"], labels = datarank[\"World Population Percentage\"], shadow = True)\n",
    "#plt.title(\"Top 5 world population percentage country\")\n",
    "#plt.legend(datarank[\"Country/Territory\"],title = \"Top 5 Countries\", loc = \"upper left\")\n",
    "plt.show()"
   ]
  },
  {
   "cell_type": "markdown",
   "id": "742addfe",
   "metadata": {},
   "source": [
    "#### Resumen de los gráficos creados en esta notebook para la visualización de datos"
   ]
  }
 ],
 "metadata": {
  "kernelspec": {
   "display_name": "Python 3 (ipykernel)",
   "language": "python",
   "name": "python3"
  },
  "language_info": {
   "codemirror_mode": {
    "name": "ipython",
    "version": 3
   },
   "file_extension": ".py",
   "mimetype": "text/x-python",
   "name": "python",
   "nbconvert_exporter": "python",
   "pygments_lexer": "ipython3",
   "version": "3.10.9"
  }
 },
 "nbformat": 4,
 "nbformat_minor": 5
}
